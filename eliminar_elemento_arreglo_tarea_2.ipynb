{
  "nbformat": 4,
  "nbformat_minor": 0,
  "metadata": {
    "colab": {
      "name": "eliminar_elemento_arreglo_tarea_2.ipynb",
      "provenance": [],
      "authorship_tag": "ABX9TyOFnvYTWgdKwAF/q0VKMr7/",
      "include_colab_link": true
    },
    "kernelspec": {
      "name": "python3",
      "display_name": "Python 3"
    },
    "language_info": {
      "name": "python"
    }
  },
  "cells": [
    {
      "cell_type": "markdown",
      "metadata": {
        "id": "view-in-github",
        "colab_type": "text"
      },
      "source": [
        "<a href=\"https://colab.research.google.com/github/CarlosGarMon/Tarea_2/blob/main/eliminar_elemento_arreglo_tarea_2.ipynb\" target=\"_parent\"><img src=\"https://colab.research.google.com/assets/colab-badge.svg\" alt=\"Open In Colab\"/></a>"
      ]
    },
    {
      "cell_type": "code",
      "metadata": {
        "id": "UIgyygy_6FX_"
      },
      "source": [
        "lista = [ ]\n",
        "print('     ELIMINAR EL ELEMENTO MEDIO DE LA LISTA\\n')\n",
        "x = int (input ('De cuantos elementos quieres la lista? R= '))\n",
        "for i in range ( x ):\n",
        "    elemento = int ( input (f'Escribe el el miembro numero { i + 1 } de la lista: '))\n",
        "    lista = lista + [elemento]\n",
        "print(f'\\nTu lista es la siguente: { lista }')\n",
        "\n",
        "if x % 2 == 0:\n",
        "    lista.pop( int (( x / 2 ) - 1))\n",
        "    print('La dimension de la lista es PAR')\n",
        "    print(f'Se eliminó el elemento { int ( x / 2 ) } de la lista: { lista }')\n",
        "else:\n",
        "    lista.pop(int (x / 2 ))\n",
        "    print('La dimension de la lista es IMPAR')\n",
        "    print(f'Se eliminó el elemento { int ( x / 2 ) + 1 } de la lista: { lista }')\n",
        "\n"
      ],
      "execution_count": null,
      "outputs": []
    }
  ]
}