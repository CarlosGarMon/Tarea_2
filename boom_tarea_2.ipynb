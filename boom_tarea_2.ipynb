{
  "nbformat": 4,
  "nbformat_minor": 0,
  "metadata": {
    "colab": {
      "name": "boom_tarea_2.ipynb",
      "provenance": [],
      "collapsed_sections": [],
      "authorship_tag": "ABX9TyNq0/d5S+nhFmY0gnRT3uzN",
      "include_colab_link": true
    },
    "kernelspec": {
      "name": "python3",
      "display_name": "Python 3"
    },
    "language_info": {
      "name": "python"
    }
  },
  "cells": [
    {
      "cell_type": "markdown",
      "metadata": {
        "id": "view-in-github",
        "colab_type": "text"
      },
      "source": [
        "<a href=\"https://colab.research.google.com/github/CarlosGarMon/Tarea_2/blob/main/boom_tarea_2.ipynb\" target=\"_parent\"><img src=\"https://colab.research.google.com/assets/colab-badge.svg\" alt=\"Open In Colab\"/></a>"
      ]
    },
    {
      "cell_type": "code",
      "metadata": {
        "id": "Qo_Vujd958AB"
      },
      "source": [
        "def boom( x ):\n",
        "    if x > 0 :\n",
        "        print( x )\n",
        "        boom( x - 1 )\n",
        "    else:\n",
        "        print('¡BOOOOOOMMMM!')"
      ],
      "execution_count": null,
      "outputs": []
    },
    {
      "cell_type": "code",
      "metadata": {
        "id": "HuoGKTg-8Dxw"
      },
      "source": [
        "numero = input('¿Desde qué numero deseas el contador? R= ')\n",
        "x = int ( numero )\n",
        "\n",
        "resultado = boom( x )\n",
        "print(  resultado )"
      ],
      "execution_count": null,
      "outputs": []
    }
  ]
}