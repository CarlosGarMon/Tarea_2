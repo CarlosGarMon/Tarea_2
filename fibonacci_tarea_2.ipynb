{
  "nbformat": 4,
  "nbformat_minor": 0,
  "metadata": {
    "colab": {
      "name": "fibonacci_tarea_2.ipynb",
      "provenance": [],
      "collapsed_sections": [],
      "authorship_tag": "ABX9TyOMh7cRMBp0I3LN7hEJfe1E",
      "include_colab_link": true
    },
    "kernelspec": {
      "name": "python3",
      "display_name": "Python 3"
    },
    "language_info": {
      "name": "python"
    }
  },
  "cells": [
    {
      "cell_type": "markdown",
      "metadata": {
        "id": "view-in-github",
        "colab_type": "text"
      },
      "source": [
        "<a href=\"https://colab.research.google.com/github/CarlosGarMon/Tarea_2/blob/main/fibonacci_tarea_2.ipynb\" target=\"_parent\"><img src=\"https://colab.research.google.com/assets/colab-badge.svg\" alt=\"Open In Colab\"/></a>"
      ]
    },
    {
      "cell_type": "code",
      "metadata": {
        "id": "GBcMBwYd4_RX"
      },
      "source": [
        "def fibonacci( x ):\n",
        "    if x == 0:\n",
        "        return 0\n",
        "    else:\n",
        "        if x == 1:\n",
        "            return 1\n",
        "        else:\n",
        "            return fibonacci( x - 1 ) + fibonacci( x - 2)"
      ],
      "execution_count": null,
      "outputs": []
    },
    {
      "cell_type": "code",
      "metadata": {
        "id": "6qZD84-I5DbV"
      },
      "source": [
        "numero = input('¿Qué término de la serie de Fibonacci quieres? \\n')\n",
        "x = int ( numero )\n",
        "\n",
        "resultado = fibonacci( x )\n",
        "print( f'El termino { x } de la serie de Fibonacci es: { resultado } ')"
      ],
      "execution_count": null,
      "outputs": []
    }
  ]
}