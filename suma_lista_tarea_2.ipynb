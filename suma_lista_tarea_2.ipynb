{
  "nbformat": 4,
  "nbformat_minor": 0,
  "metadata": {
    "colab": {
      "name": "suma_lista_tarea_2.ipynb",
      "provenance": [],
      "authorship_tag": "ABX9TyOaOOpjM2XiJg9ZxQaLcZm0",
      "include_colab_link": true
    },
    "kernelspec": {
      "name": "python3",
      "display_name": "Python 3"
    },
    "language_info": {
      "name": "python"
    }
  },
  "cells": [
    {
      "cell_type": "markdown",
      "metadata": {
        "id": "view-in-github",
        "colab_type": "text"
      },
      "source": [
        "<a href=\"https://colab.research.google.com/github/CarlosGarMon/Tarea_2/blob/main/suma_lista_tarea_2.ipynb\" target=\"_parent\"><img src=\"https://colab.research.google.com/assets/colab-badge.svg\" alt=\"Open In Colab\"/></a>"
      ]
    },
    {
      "cell_type": "code",
      "metadata": {
        "id": "ly0F5hWUBZtu"
      },
      "source": [
        "def suma( lista ):\n",
        "    if lista == []:\n",
        "        return 0\n",
        "    else:\n",
        "        return lista[0] + suma(lista[1:])"
      ],
      "execution_count": 6,
      "outputs": []
    },
    {
      "cell_type": "code",
      "metadata": {
        "id": "5rNP7RIy-U40",
        "colab": {
          "base_uri": "https://localhost:8080/"
        },
        "outputId": "9c904d8f-f2ee-4be1-dda8-b59aaa3ff0f1"
      },
      "source": [
        "lista = [2, 4, 8, 1, 5, 2, 3, 7, 10, 8]\n",
        "print('     LISTA DE 10 ENTEROS\\n')\n",
        "print (lista)\n",
        "\n",
        "resultado = suma(lista)\n",
        "print(f'La sumatoria de los numeros de la lista es: {resultado}')\n",
        "\n"
      ],
      "execution_count": 7,
      "outputs": [
        {
          "output_type": "stream",
          "name": "stdout",
          "text": [
            "     LISTA DE 10 ENTEROS\n",
            "\n",
            "[2, 4, 8, 1, 5, 2, 3, 7, 10, 8]\n",
            "La sumatoria de los numeros de la lista es: 50\n"
          ]
        }
      ]
    }
  ]
}