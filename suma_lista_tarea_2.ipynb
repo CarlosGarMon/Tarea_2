{
  "nbformat": 4,
  "nbformat_minor": 0,
  "metadata": {
    "colab": {
      "name": "suma_lista_tarea_2.ipynb",
      "provenance": [],
      "collapsed_sections": [],
      "authorship_tag": "ABX9TyMczHFSEIB6vumQ7pt74+y7",
      "include_colab_link": true
    },
    "kernelspec": {
      "name": "python3",
      "display_name": "Python 3"
    },
    "language_info": {
      "name": "python"
    }
  },
  "cells": [
    {
      "cell_type": "markdown",
      "metadata": {
        "id": "view-in-github",
        "colab_type": "text"
      },
      "source": [
        "<a href=\"https://colab.research.google.com/github/CarlosGarMon/Tarea_2/blob/main/suma_lista_tarea_2.ipynb\" target=\"_parent\"><img src=\"https://colab.research.google.com/assets/colab-badge.svg\" alt=\"Open In Colab\"/></a>"
      ]
    },
    {
      "cell_type": "code",
      "metadata": {
        "id": "ly0F5hWUBZtu"
      },
      "source": [
        "def suma( lista ):\n",
        "    if lista == []:\n",
        "        return 0\n",
        "    else:\n",
        "        return lista[0] + suma(lista[1:])"
      ],
      "execution_count": 2,
      "outputs": []
    },
    {
      "cell_type": "code",
      "metadata": {
        "id": "5rNP7RIy-U40"
      },
      "source": [
        "lista = [ ]\n",
        "print('     LISTA DE ENTEROS\\n')\n",
        "x = int (input ('De cuantos elementos quieres la lista? R= '))\n",
        "for i in range ( x ):\n",
        "    elemento = int ( input (f'Escribe el el miembro numero { i + 1 } de la lista: '))\n",
        "    lista = lista + [elemento]\n",
        "print(f'\\nTu lista es la siguente: { lista }')\n",
        "\n",
        "resultado = suma(lista)\n",
        "print(f'La sumatoria de los numeros de la lista es: {resultado}')\n",
        "\n"
      ],
      "execution_count": null,
      "outputs": []
    }
  ]
}